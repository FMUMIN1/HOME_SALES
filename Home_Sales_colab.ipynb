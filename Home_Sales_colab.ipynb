{
  "cells": [
    {
      "cell_type": "code",
      "execution_count": 54,
      "metadata": {
        "colab": {
          "base_uri": "https://localhost:8080/"
        },
        "id": "a_KW73O2e3dw",
        "outputId": "eef6cca0-82ac-4c1e-909a-9dd4d36b6cd8"
      },
      "outputs": [
        {
          "name": "stdout",
          "output_type": "stream",
          "text": [
            "\r0% [Working]\r            \rHit:1 https://cloud.r-project.org/bin/linux/ubuntu focal-cran40/ InRelease\n",
            "Hit:2 https://developer.download.nvidia.com/compute/cuda/repos/ubuntu2004/x86_64  InRelease\n",
            "Hit:3 http://archive.ubuntu.com/ubuntu focal InRelease\n",
            "Get:4 http://archive.ubuntu.com/ubuntu focal-updates InRelease [114 kB]\n",
            "Get:5 http://ppa.launchpad.net/c2d4u.team/c2d4u4.0+/ubuntu focal InRelease [18.1 kB]\n",
            "Get:6 http://security.ubuntu.com/ubuntu focal-security InRelease [114 kB]\n",
            "Get:7 http://archive.ubuntu.com/ubuntu focal-backports InRelease [108 kB]\n",
            "Hit:8 http://ppa.launchpad.net/cran/libgit2/ubuntu focal InRelease\n",
            "Get:9 http://archive.ubuntu.com/ubuntu focal-updates/main amd64 Packages [3,346 kB]\n",
            "Hit:10 http://ppa.launchpad.net/deadsnakes/ppa/ubuntu focal InRelease\n",
            "Hit:11 http://ppa.launchpad.net/graphics-drivers/ppa/ubuntu focal InRelease\n",
            "Hit:12 http://ppa.launchpad.net/ubuntugis/ppa/ubuntu focal InRelease\n",
            "Get:13 http://ppa.launchpad.net/c2d4u.team/c2d4u4.0+/ubuntu focal/main Sources [2,604 kB]\n",
            "Get:14 http://ppa.launchpad.net/c2d4u.team/c2d4u4.0+/ubuntu focal/main amd64 Packages [1,229 kB]\n",
            "Fetched 7,534 kB in 4s (1,779 kB/s)\n",
            "Reading package lists... Done\n"
          ]
        }
      ],
      "source": [
        "import os\n",
        "# Find the latest version of spark 3.x  from http://www.apache.org/dist/spark/ and enter as the spark version\n",
        "# For example:\n",
        "# spark_version = 'spark-3.3.1'\n",
        "spark_version = 'spark-3.4.1'\n",
        "os.environ['SPARK_VERSION']=spark_version\n",
        "\n",
        "# Install Spark and Java\n",
        "!apt-get update\n",
        "!apt-get install openjdk-11-jdk-headless -qq > /dev/null\n",
        "!wget -q http://www.apache.org/dist/spark/$SPARK_VERSION/$SPARK_VERSION-bin-hadoop3.tgz\n",
        "!tar xf $SPARK_VERSION-bin-hadoop3.tgz\n",
        "%pip install -q findspark\n",
        "\n",
        "# Set Environment Variables\n",
        "os.environ[\"JAVA_HOME\"] = \"/usr/lib/jvm/java-11-openjdk-amd64\"\n",
        "os.environ[\"SPARK_HOME\"] = f\"/content/{spark_version}-bin-hadoop3\"\n",
        "\n",
        "# Start a SparkSession\n",
        "import findspark\n",
        "findspark.init()\n"
      ]
    },
    {
      "cell_type": "code",
      "execution_count": 55,
      "metadata": {
        "id": "2XbWNf1Te5fM"
      },
      "outputs": [],
      "source": [
        "# Import packages\n",
        "from pyspark.sql import SparkSession\n",
        "import time\n",
        "\n",
        "# Create a SparkSession\n",
        "SPARK = SparkSession.builder.appName(\"SparkSQL\").getOrCreate()"
      ]
    },
    {
      "cell_type": "code",
      "execution_count": 56,
      "metadata": {
        "id": "KW1nwZM1D7D6"
      },
      "outputs": [],
      "source": [
        "from pyspark.sql.functions import round, col"
      ]
    },
    {
      "cell_type": "code",
      "execution_count": 57,
      "metadata": {
        "colab": {
          "base_uri": "https://localhost:8080/"
        },
        "id": "wOJqxG_RPSwp",
        "outputId": "41f54dbe-ccdb-4c59-8d07-b8aa07799489"
      },
      "outputs": [
        {
          "name": "stdout",
          "output_type": "stream",
          "text": [
            "+--------------------+----------+----------+------+--------+---------+-----------+--------+------+----------+----+\n",
            "|                  id|      date|date_built| price|bedrooms|bathrooms|sqft_living|sqft_lot|floors|waterfront|view|\n",
            "+--------------------+----------+----------+------+--------+---------+-----------+--------+------+----------+----+\n",
            "|f8a53099-ba1c-47d...|2022-04-08|      2016|936923|       4|        3|       3167|   11733|     2|         1|  76|\n",
            "|7530a2d8-1ae3-451...|2021-06-13|      2013|379628|       2|        2|       2235|   14384|     1|         0|  23|\n",
            "|43de979c-0bf0-4c9...|2019-04-12|      2014|417866|       2|        2|       2127|   10575|     2|         0|   0|\n",
            "|b672c137-b88c-48b...|2019-10-16|      2016|239895|       2|        2|       1631|   11149|     2|         0|   0|\n",
            "|e0726d4d-d595-407...|2022-01-08|      2017|424418|       3|        2|       2249|   13878|     2|         0|   4|\n",
            "|5aa00529-0533-46b...|2019-01-30|      2017|218712|       2|        3|       1965|   14375|     2|         0|   7|\n",
            "|131492a1-72e2-4a8...|2020-02-08|      2017|419199|       2|        3|       2062|    8876|     2|         0|   6|\n",
            "|8d54a71b-c520-44e...|2019-07-21|      2010|323956|       2|        3|       1506|   11816|     1|         0|  25|\n",
            "|e81aacfe-17fe-46b...|2020-06-16|      2016|181925|       3|        3|       2137|   11709|     2|         0|  22|\n",
            "|2ed8d509-7372-46d...|2021-08-06|      2015|258710|       3|        3|       1918|    9666|     1|         0|  25|\n",
            "|f876d86f-3c9f-42b...|2019-02-27|      2011|167864|       3|        3|       2471|   13924|     2|         0|  15|\n",
            "|0a2bd445-8508-4d8...|2021-12-30|      2014|337527|       2|        3|       1926|   12556|     1|         0|  23|\n",
            "|941bad30-eb49-4a7...|2020-05-09|      2015|229896|       3|        3|       2197|    8641|     1|         0|   3|\n",
            "|dd61eb34-6589-4c0...|2021-07-25|      2016|210247|       3|        2|       1672|   11986|     2|         0|  28|\n",
            "|f1e4cef7-d151-439...|2019-02-01|      2011|398667|       2|        3|       2331|   11356|     1|         0|   7|\n",
            "|ea620c7b-c2f7-4c6...|2021-05-31|      2011|437958|       3|        3|       2356|   11052|     1|         0|  26|\n",
            "|f233cb41-6f33-4b0...|2021-07-18|      2016|437375|       4|        3|       1704|   11721|     2|         0|  34|\n",
            "|c797ca12-52cd-4b1...|2019-06-08|      2015|288650|       2|        3|       2100|   10419|     2|         0|   7|\n",
            "|0cfe57f3-28c2-472...|2019-10-04|      2015|308313|       3|        3|       1960|    9453|     2|         0|   2|\n",
            "|4566cd2a-ac6e-435...|2019-07-15|      2016|177541|       3|        3|       2130|   10517|     2|         0|  25|\n",
            "+--------------------+----------+----------+------+--------+---------+-----------+--------+------+----------+----+\n",
            "only showing top 20 rows\n",
            "\n"
          ]
        }
      ],
      "source": [
        "# 1. Read in the AWS S3 bucket into a DataFrame.\n",
        "from pyspark import SparkFiles\n",
        "url = \"https://2u-data-curriculum-team.s3.amazonaws.com/dataviz-classroom/v1.2/22-big-data/home_sales_revised.csv\"\n",
        "SPARK.sparkContext.addFile(url)\n",
        "HOME_DF = SPARK.read.csv(SparkFiles.get('home_sales_revised.csv'), sep=',', header=True)\n",
        "\n",
        "# display the DataFrame\n",
        "HOME_DF.show()\n"
      ]
    },
    {
      "cell_type": "code",
      "execution_count": 58,
      "metadata": {
        "id": "RoljcJ7WPpnm"
      },
      "outputs": [],
      "source": [
        "# 2. Create a temporary view of the DataFrame.\n",
        "HOME_DF.createOrReplaceTempView('home_sales')\n"
      ]
    },
    {
      "cell_type": "code",
      "execution_count": 59,
      "metadata": {
        "colab": {
          "base_uri": "https://localhost:8080/"
        },
        "id": "L6fkwOeOmqvq",
        "outputId": "56223dc1-9228-4350-b2cc-0a47f0c9537a"
      },
      "outputs": [
        {
          "name": "stdout",
          "output_type": "stream",
          "text": [
            "+----------+-------------+\n",
            "|date_built|average_price|\n",
            "+----------+-------------+\n",
            "|      2016|    296050.24|\n",
            "|      2012|    298233.42|\n",
            "|      2017|    296576.69|\n",
            "|      2014|    299073.89|\n",
            "|      2013|    299999.39|\n",
            "|      2011|     302141.9|\n",
            "|      2015|    307908.86|\n",
            "|      2010|    296800.75|\n",
            "+----------+-------------+\n",
            "\n"
          ]
        }
      ],
      "source": [
        "# 3. What is the average price for a four bedroom house sold in each year rounded to two decimal places?\n",
        "SPARK.sql(\"\"\"\n",
        "SELECT date_built,\n",
        "ROUND(AVG(price), 2) AS average_price\n",
        "FROM home_sales\n",
        "WHERE bedrooms = 4\n",
        "GROUP BY date_built\n",
        "\"\"\").show()\n"
      ]
    },
    {
      "cell_type": "code",
      "execution_count": 60,
      "metadata": {
        "colab": {
          "base_uri": "https://localhost:8080/"
        },
        "id": "35i8_Ak0FtV3",
        "outputId": "1fe623d3-43e6-45e9-fa94-88947eb7b1c2"
      },
      "outputs": [
        {
          "name": "stdout",
          "output_type": "stream",
          "text": [
            "+----------+------------------+\n",
            "|date_built|rounded avg(price)|\n",
            "+----------+------------------+\n",
            "|      2016|         296050.24|\n",
            "|      2012|         298233.42|\n",
            "|      2017|         296576.69|\n",
            "|      2014|         299073.89|\n",
            "|      2013|         299999.39|\n",
            "|      2011|          302141.9|\n",
            "|      2015|         307908.86|\n",
            "|      2010|         296800.75|\n",
            "+----------+------------------+\n",
            "\n"
          ]
        }
      ],
      "source": [
        "#FIND 4BED HOMES\n",
        "FBH = HOME_DF.filter(HOME_DF[\"bedrooms\"] == 4)\n",
        "\n",
        "#GROUP THEM BY YEAR (AVERAGE)\n",
        "FBHBY = FBH.groupBy(\"date_built\").agg({\"price\" : \"avg\"})\n",
        "\n",
        "#GET PRICE & ROUND BY 2DEC\n",
        "FBC = FBHBY.withColumn('rounded avg(price)',round((FBHBY['avg(price)']), 2))\n",
        "\n",
        "#DISPLAY YEAR BUILT & PRICE\n",
        "FBC.select(['date_built', 'rounded avg(price)']).show()"
      ]
    },
    {
      "cell_type": "code",
      "execution_count": 61,
      "metadata": {
        "colab": {
          "base_uri": "https://localhost:8080/"
        },
        "id": "l8p_tUS8h8it",
        "outputId": "c39a1506-5b76-4cd4-ee5f-cdbb92a6ea07"
      },
      "outputs": [
        {
          "name": "stdout",
          "output_type": "stream",
          "text": [
            "+----------+-------------+\n",
            "|date_built|average_price|\n",
            "+----------+-------------+\n",
            "|      2016|    290555.07|\n",
            "|      2012|    293683.19|\n",
            "|      2017|    292676.79|\n",
            "|      2014|    290852.27|\n",
            "|      2013|    295962.27|\n",
            "|      2011|    291117.47|\n",
            "|      2015|     288770.3|\n",
            "|      2010|    292859.62|\n",
            "+----------+-------------+\n",
            "\n"
          ]
        }
      ],
      "source": [
        "# 4. What is the average price of a home for each year the home was built that have 3 bedrooms and 3 bathrooms rounded to two decimal places?\n",
        "SPARK.sql(\"\"\"\n",
        "SELECT date_built,\n",
        "ROUND(AVG(price), 2) AS average_price\n",
        "FROM home_sales\n",
        "WHERE bedrooms = 3 AND  bathrooms = 3\n",
        "GROUP BY date_built\n",
        "\"\"\").show()\n"
      ]
    },
    {
      "cell_type": "code",
      "execution_count": 62,
      "metadata": {
        "colab": {
          "base_uri": "https://localhost:8080/"
        },
        "id": "U7T4g3M5G3fs",
        "outputId": "8c12545e-4218-432f-9bc3-3834eb048c42"
      },
      "outputs": [
        {
          "name": "stdout",
          "output_type": "stream",
          "text": [
            "+----------+------------------+\n",
            "|date_built|rounded avg(price)|\n",
            "+----------+------------------+\n",
            "|      2016|         290555.07|\n",
            "|      2012|         293683.19|\n",
            "|      2017|         292676.79|\n",
            "|      2014|         290852.27|\n",
            "|      2013|         295962.27|\n",
            "|      2011|         291117.47|\n",
            "|      2015|          288770.3|\n",
            "|      2010|         292859.62|\n",
            "+----------+------------------+\n",
            "\n"
          ]
        }
      ],
      "source": [
        "#FIND 3BED 3BATH\n",
        "TRESB = HOME_DF.filter(HOME_DF[\"bedrooms\"] == 3)\n",
        "BEDBHOME = TRESB.filter(TRESB['bathrooms'] ==3)\n",
        "\n",
        "#GROUP THEM BY YEAR (AVERAGE)\n",
        "TRESYEAR = BEDBHOME.groupBy(\"date_built\").agg({\"price\" : \"avg\"})\n",
        "\n",
        "#GET PRICE & ROUND BY 2DEC\n",
        "TRESPRICE = TRESYEAR.withColumn('rounded avg(price)',round((TRESYEAR['avg(price)']), 2))\n",
        "\n",
        "#DISPLAY YEAR BUILT & PRICE\n",
        "TRESPRICE.select(['date_built', 'rounded avg(price)']).show()"
      ]
    },
    {
      "cell_type": "code",
      "execution_count": 63,
      "metadata": {
        "colab": {
          "base_uri": "https://localhost:8080/"
        },
        "id": "Y-Eytz64liDU",
        "outputId": "1ade6881-60c7-4bfc-8a36-8888cd6b7d11"
      },
      "outputs": [
        {
          "name": "stdout",
          "output_type": "stream",
          "text": [
            "+----------+-------------+\n",
            "|date_built|average_price|\n",
            "+----------+-------------+\n",
            "|      2016|     293965.1|\n",
            "|      2012|    307539.97|\n",
            "|      2017|    280317.58|\n",
            "|      2014|    298264.72|\n",
            "|      2013|    303676.79|\n",
            "|      2011|    276553.81|\n",
            "|      2015|    297609.97|\n",
            "|      2010|    285010.22|\n",
            "+----------+-------------+\n",
            "\n"
          ]
        }
      ],
      "source": [
        "# 5. What is the average price of a home for each year built that have 3 bedrooms, 3 bathrooms, with two floors,\n",
        "# and are greater than or equal to 2,000 square feet rounded to two decimal places?\n",
        "SPARK.sql(\"\"\"\n",
        "SELECT date_built,\n",
        "ROUND(AVG(price), 2)\n",
        "AS average_price FROM home_sales\n",
        "WHERE bedrooms = 3 AND  bathrooms = 3 AND floors = 2 AND sqft_living >= 2000\n",
        "GROUP BY date_built\n",
        "\"\"\").show()"
      ]
    },
    {
      "cell_type": "code",
      "execution_count": 64,
      "metadata": {
        "colab": {
          "base_uri": "https://localhost:8080/"
        },
        "id": "SWzk0bHWVcEa",
        "outputId": "c26a3652-062e-46e5-d186-fd9c4cbfc80d"
      },
      "outputs": [
        {
          "name": "stdout",
          "output_type": "stream",
          "text": [
            "+----------+------------------+\n",
            "|date_built|rounded avg(price)|\n",
            "+----------+------------------+\n",
            "|      2016|          293965.1|\n",
            "|      2012|         307539.97|\n",
            "|      2017|         280317.58|\n",
            "|      2014|         298264.72|\n",
            "|      2013|         303676.79|\n",
            "|      2011|         276553.81|\n",
            "|      2015|         297609.97|\n",
            "|      2010|         285010.22|\n",
            "+----------+------------------+\n",
            "\n"
          ]
        }
      ],
      "source": [
        "#FIND 3BED 3BATH </= 2000 SQFT\n",
        "TRESBEDH = HOME_DF.filter((HOME_DF[\"bedrooms\"] == 3) & (HOME_DF['bathrooms'] ==3) & (HOME_DF['floors'] == 2))\n",
        "TRESSQFT = TRESBEDH.filter(TRESBEDH['sqft_living'] >= 2000)\n",
        "\n",
        "#GROUP THEM BY YEAR (AVERAGE)\n",
        "SQFT_PY = TRESSQFT.groupBy(\"date_built\").agg({\"price\" : \"avg\"})\n",
        "\n",
        "#GET PRICE & ROUND BY 2DEC\n",
        "SQFTP = SQFT_PY.withColumn('rounded avg(price)',round((SQFT_PY['avg(price)']), 2))\n",
        "\n",
        "#DISPLAY YEAR BUILT & PRICE\n",
        "SQFTP.select(['date_built', 'rounded avg(price)']).show()"
      ]
    },
    {
      "cell_type": "code",
      "execution_count": 65,
      "metadata": {
        "colab": {
          "base_uri": "https://localhost:8080/"
        },
        "id": "GUrfgOX1pCRd",
        "outputId": "afec8ad4-3aa2-4756-d428-c6e66bec0935"
      },
      "outputs": [
        {
          "name": "stdout",
          "output_type": "stream",
          "text": [
            "+------------+\n",
            "|average_view|\n",
            "+------------+\n",
            "|       32.26|\n",
            "+------------+\n",
            "\n",
            "--- 0.7957961559295654 seconds ---\n"
          ]
        }
      ],
      "source": [
        "# 6. What is the \"view\" rating for the average price of a home, rounded to two decimal places, where the homes are greater than\n",
        "# or equal to $350,000? Although this is a small dataset, determine the run time for this query.\n",
        "\n",
        "start_time = time.time()\n",
        "\n",
        "SPARK.sql(\"\"\"\n",
        "SELECT ROUND(AVG(view), 2)\n",
        "AS average_view\n",
        "FROM home_sales\n",
        "WHERE price >= 350000\n",
        "\"\"\").show()\n",
        "\n",
        "print(\"--- %s seconds ---\" % (time.time() - start_time))\n",
        "\n"
      ]
    },
    {
      "cell_type": "code",
      "execution_count": 66,
      "metadata": {
        "colab": {
          "base_uri": "https://localhost:8080/"
        },
        "id": "ePTsFHrgYHqs",
        "outputId": "3c9220ec-ca41-4789-9e36-fb8cd6311a40"
      },
      "outputs": [
        {
          "name": "stdout",
          "output_type": "stream",
          "text": [
            "+-----------------+\n",
            "|rounded avg(view)|\n",
            "+-----------------+\n",
            "|            32.26|\n",
            "+-----------------+\n",
            "\n",
            "--- 0.4882466793060303 seconds ---\n"
          ]
        }
      ],
      "source": [
        "start_time = time.time()\n",
        "\n",
        "# </= 350000\n",
        "VRHOMEPRICE = HOME_DF.filter(HOME_DF[\"price\"] >= 350000)\n",
        "\n",
        "#GET AVG VIEW\n",
        "VRHOME_AVG = VRHOMEPRICE.agg({\"view\" : \"avg\"})\n",
        "\n",
        "#ROUND 2DEC\n",
        "VHOME = VRHOME_AVG.withColumn('rounded avg(view)', round((VRHOME_AVG['avg(view)']), 2))\n",
        "\n",
        "#DISPLAY RESULTS\n",
        "VHOME.select(['rounded avg(view)']).show()\n",
        "\n",
        "print(\"--- %s seconds ---\" % (time.time() - start_time))"
      ]
    },
    {
      "cell_type": "code",
      "execution_count": 71,
      "metadata": {
        "colab": {
          "base_uri": "https://localhost:8080/"
        },
        "id": "KAhk3ZD2tFy8",
        "outputId": "1706d54d-ddaa-4c2a-82a0-3bda8676fd24"
      },
      "outputs": [
        {
          "data": {
            "text/plain": [
              "DataFrame[]"
            ]
          },
          "execution_count": 71,
          "metadata": {},
          "output_type": "execute_result"
        }
      ],
      "source": [
        "# 7. Cache the the temporary table home_sales.\n",
        "SPARK.sql('cache table home_sales')"
      ]
    },
    {
      "cell_type": "code",
      "execution_count": 70,
      "metadata": {
        "colab": {
          "base_uri": "https://localhost:8080/"
        },
        "id": "4opVhbvxtL-i",
        "outputId": "3339a05f-5782-4567-d96c-3dc3a6f330a6"
      },
      "outputs": [
        {
          "data": {
            "text/plain": [
              "True"
            ]
          },
          "execution_count": 70,
          "metadata": {},
          "output_type": "execute_result"
        }
      ],
      "source": [
        "# 8. Check if the table is cached.\n",
        "SPARK.catalog.isCached('home_sales')"
      ]
    },
    {
      "cell_type": "code",
      "execution_count": 72,
      "metadata": {
        "colab": {
          "base_uri": "https://localhost:8080/"
        },
        "id": "5GnL46lwTSEk",
        "outputId": "77b78614-a82f-441a-8811-2c338525c9cb"
      },
      "outputs": [
        {
          "name": "stdout",
          "output_type": "stream",
          "text": [
            "+------------+\n",
            "|average_view|\n",
            "+------------+\n",
            "|       32.26|\n",
            "+------------+\n",
            "\n",
            "--- 0.2846949100494385 seconds ---\n"
          ]
        }
      ],
      "source": [
        "# 9. Using the cached data, run the query that filters out the view ratings with average price\n",
        "#  greater than or equal to $350,000. Determine the runtime and compare it to uncached runtime.\n",
        "\n",
        "start_time = time.time()\n",
        "SPARK.sql(\"\"\"\n",
        "SELECT ROUND(AVG(view), 2)\n",
        "AS average_view\n",
        "FROM home_sales\n",
        "WHERE price >= 350000\n",
        "\"\"\").show()\n",
        "\n",
        "print(\"--- %s seconds ---\" % (time.time() - start_time))\n",
        "\n"
      ]
    },
    {
      "cell_type": "code",
      "execution_count": 73,
      "metadata": {
        "colab": {
          "base_uri": "https://localhost:8080/"
        },
        "id": "DqtAu9xTYg2u",
        "outputId": "e7b4e432-8cc3-460c-a22b-1acc80170d39"
      },
      "outputs": [
        {
          "name": "stdout",
          "output_type": "stream",
          "text": [
            "+-----------------+\n",
            "|rounded avg(view)|\n",
            "+-----------------+\n",
            "|            32.26|\n",
            "+-----------------+\n",
            "\n",
            "--- 0.41057515144348145 seconds ---\n"
          ]
        }
      ],
      "source": [
        "start_time = time.time()\n",
        "\n",
        "# </= 350000\n",
        "VRHOMEPRICE = HOME_DF.filter(HOME_DF[\"price\"] >= 350000)\n",
        "\n",
        "#GET AVG VIEW\n",
        "VRHOME_AVG = VRHOMEPRICE.agg({\"view\" : \"avg\"})\n",
        "\n",
        "#ROUND 2DEC\n",
        "VHOME = VRHOME_AVG.withColumn('rounded avg(view)', round((VRHOME_AVG['avg(view)']), 2))\n",
        "\n",
        "#DISPLAY RESULTS\n",
        "VHOME.select(['rounded avg(view)']).show()\n",
        "\n",
        "print(\"--- %s seconds ---\" % (time.time() - start_time))"
      ]
    },
    {
      "cell_type": "code",
      "execution_count": 74,
      "metadata": {
        "id": "Qm12WN9isHBR"
      },
      "outputs": [],
      "source": [
        "# 10. Partition by the \"date_built\" field on the formatted parquet home sales data\n",
        "HOME_DF.write.partitionBy(\"date_built\").parquet(\"hs_partitioned\", mode =\"overwrite\")"
      ]
    },
    {
      "cell_type": "code",
      "execution_count": 80,
      "metadata": {
        "id": "AZ7BgY61sRqY"
      },
      "outputs": [],
      "source": [
        "# 11. Read the parquet formatted data.\n",
        "HS_PART = SPARK.read.parquet('hs_partitioned')"
      ]
    },
    {
      "cell_type": "code",
      "execution_count": 81,
      "metadata": {
        "colab": {
          "base_uri": "https://localhost:8080/"
        },
        "id": "J6MJkHfvVcvh",
        "outputId": "c4f04e19-04b5-46a0-830d-bc21f52c4807"
      },
      "outputs": [
        {
          "data": {
            "text/plain": [
              "DataFrame[]"
            ]
          },
          "execution_count": 81,
          "metadata": {},
          "output_type": "execute_result"
        }
      ],
      "source": [
        "# 12. Create a temporary table for the parquet data.\n",
        "SPARK.sql('uncache table home_sales')"
      ]
    },
    {
      "cell_type": "code",
      "execution_count": 82,
      "metadata": {
        "colab": {
          "base_uri": "https://localhost:8080/"
        },
        "id": "G_Vhb52rU1Sn",
        "outputId": "fb6008fd-288a-415c-b9a5-ed859f67d22b"
      },
      "outputs": [
        {
          "name": "stdout",
          "output_type": "stream",
          "text": [
            "+------------+\n",
            "|average_view|\n",
            "+------------+\n",
            "|       32.26|\n",
            "+------------+\n",
            "\n",
            "--- 0.51808762550354 seconds ---\n"
          ]
        }
      ],
      "source": [
        "# 13. Run the query that filters out the view ratings with average price of greater than or equal to $350,000\n",
        "# with the parquet DataFrame. Round your average to two decimal places.\n",
        "# Determine the runtime and compare it to the cached version.\n",
        "\n",
        "start_time = time.time()\n",
        "SPARK.sql(\"\"\"\n",
        "SELECT ROUND(AVG(view), 2)\n",
        "AS average_view\n",
        "FROM home_sales\n",
        "WHERE price >= 350000\n",
        "\"\"\").show()\n",
        "\n",
        "\n",
        "print(\"--- %s seconds ---\" % (time.time() - start_time))"
      ]
    },
    {
      "cell_type": "code",
      "execution_count": 83,
      "metadata": {
        "colab": {
          "base_uri": "https://localhost:8080/"
        },
        "id": "hjjYzQGjtbq8",
        "outputId": "78651098-4a35-4a60-ded7-7faa8932011a"
      },
      "outputs": [
        {
          "data": {
            "text/plain": [
              "DataFrame[]"
            ]
          },
          "execution_count": 83,
          "metadata": {},
          "output_type": "execute_result"
        }
      ],
      "source": [
        "# 14. Uncache the home_sales temporary table.\n",
        "SPARK.sql('uncache table home_sales')"
      ]
    },
    {
      "cell_type": "code",
      "execution_count": 84,
      "metadata": {
        "colab": {
          "base_uri": "https://localhost:8080/"
        },
        "id": "Sy9NBvO7tlmm",
        "outputId": "ac7786f5-8679-4da8-b67a-a1d016fd4550"
      },
      "outputs": [
        {
          "data": {
            "text/plain": [
              "False"
            ]
          },
          "execution_count": 84,
          "metadata": {},
          "output_type": "execute_result"
        }
      ],
      "source": [
        "# 15. Check if the home_sales is no longer cached\n",
        "SPARK.catalog.isCached('home_sales')\n"
      ]
    },
    {
      "cell_type": "code",
      "execution_count": null,
      "metadata": {
        "id": "Si-BNruRUGK3"
      },
      "outputs": [],
      "source": []
    }
  ],
  "metadata": {
    "colab": {
      "provenance": []
    },
    "gpuClass": "standard",
    "kernelspec": {
      "display_name": "Python 3 (ipykernel)",
      "language": "python",
      "name": "python3"
    },
    "language_info": {
      "codemirror_mode": {
        "name": "ipython",
        "version": 3
      },
      "file_extension": ".py",
      "mimetype": "text/x-python",
      "name": "python",
      "nbconvert_exporter": "python",
      "pygments_lexer": "ipython3",
      "version": "3.11.3"
    },
    "nteract": {
      "version": "0.28.0"
    }
  },
  "nbformat": 4,
  "nbformat_minor": 0
}
